{
 "cells": [
  {
   "cell_type": "markdown",
   "source": [
    "## Getting started with pyForMetrics"
   ],
   "metadata": {
    "collapsed": false
   }
  },
  {
   "cell_type": "markdown",
   "source": [
    "First, we install required packages:"
   ],
   "metadata": {
    "collapsed": false
   }
  },
  {
   "cell_type": "code",
   "execution_count": 4,
   "outputs": [
    {
     "name": "stdout",
     "output_type": "stream",
     "text": [
      "Collecting wget\n",
      "  Downloading wget-3.2.zip (10 kB)\n",
      "Building wheels for collected packages: wget\n",
      "  Building wheel for wget (setup.py): started\n",
      "  Building wheel for wget (setup.py): finished with status 'done'\n",
      "  Created wheel for wget: filename=wget-3.2-py3-none-any.whl size=9675 sha256=50d1461c8384ac3ff8f79997543b903c76e969fce5bc32c44b82a85f330f7afe\n",
      "  Stored in directory: c:\\users\\lukas\\appdata\\local\\pip\\cache\\wheels\\8b\\f1\\7f\\5c94f0a7a505ca1c81cd1d9208ae2064675d97582078e6c769\n",
      "Successfully built wget\n",
      "Installing collected packages: wget\n",
      "Successfully installed wget-3.2\n"
     ]
    }
   ],
   "source": [
    "!python -m pip install pyForMetrix laspy rioxarray wget"
   ],
   "metadata": {
    "collapsed": false
   }
  },
  {
   "cell_type": "markdown",
   "source": [
    "Then, we need a point cloud dataset. You can use your own or download a sample dataset from the City of Vancouver [(Open Data)](https://opendata.vancouver.ca/explore/dataset/lidar-2018/):\n"
   ],
   "metadata": {
    "collapsed": false
   }
  },
  {
   "cell_type": "code",
   "execution_count": 6,
   "outputs": [
    {
     "name": "stdout",
     "output_type": "stream",
     "text": [
      "\n",
      "Saved under 4830E_54560N.zip\n"
     ]
    }
   ],
   "source": [
    "!python -m wget https://webtransfer.vancouver.ca/opendata/2018LiDAR/4830E_54560N.zip 4830E_54560N.zip\n",
    "!python -m zipfile -e 4830E_54560N.zip ."
   ],
   "metadata": {
    "collapsed": false
   }
  },
  {
   "cell_type": "markdown",
   "source": [
    "We need to read in the point cloud into a numpy array. Depending on the metrics we will derive later, different attributes also have to be loaded in. In this example, the 3D point cloud along with classification and echo number information is required. For reading in the file, we use `laspy`."
   ],
   "metadata": {
    "collapsed": false
   }
  },
  {
   "cell_type": "code",
   "execution_count": 8,
   "outputs": [],
   "source": [
    "import numpy as np\n",
    "import laspy\n",
    "\n",
    "inFile = laspy.read(r\"4830E_54560N.las\")\n",
    "coords = np.vstack([inFile.x,\n",
    "                    inFile.y,\n",
    "                    inFile.z]).transpose()\n",
    "points = {\n",
    "    'points': coords,\n",
    "    'echo_number': inFile.return_number,\n",
    "    'classification': inFile.classification\n",
    "}"
   ],
   "metadata": {
    "collapsed": false
   }
  },
  {
   "cell_type": "markdown",
   "source": [
    "After importing the package `pyForMetrics`, we can create a `RasterMetrics` or a `PlotMetrics` object, depending on\n",
    "the application. Let's first work with `RasterMetrics`, which will calculate the set of metrics for each cell of a\n",
    "raster overlaid on the point cloud data."
   ],
   "metadata": {
    "collapsed": false
   }
  },
  {
   "cell_type": "code",
   "execution_count": 9,
   "outputs": [],
   "source": [
    "from pyForMetrix.metrix import RasterMetrics\n",
    "rm = RasterMetrics(points, raster_size=25)"
   ],
   "metadata": {
    "collapsed": false
   }
  },
  {
   "cell_type": "markdown",
   "source": [
    "The code above may take some time to run, as on the creation of the`RasterMetrics` object, the point cloud is rasterized\n",
    "to the final cells. The runtime will increase with more points and a smaller raster size.\n",
    "\n",
    "We then select which metrics we want to calculate. `pyForMetrix` comes with a number of predefined metrics, convieniently grouped in two collections: `publications`, where metrics from different publications in the literature are taken, and `types`, which groups metrics by their type. Later, we will see how to create your own metric calculators. For now, we will use the ones presented by Woods et al. (2009):\n"
   ],
   "metadata": {
    "collapsed": false
   }
  },
  {
   "cell_type": "code",
   "execution_count": 10,
   "outputs": [],
   "source": [
    "from pyForMetrix.metricCalculators.publications import MCalc_Woods_et_al_2009\n",
    "mc = MCalc_Woods_et_al_2009()\n",
    "metrics = rm.calc_custom_metrics(metrics=mc)"
   ],
   "metadata": {
    "collapsed": false
   }
  },
  {
   "cell_type": "markdown",
   "source": [
    "\n",
    "With the last line, we created an [`xarray`](https://docs.xarray.dev/en/stable/)`.DataArray` object containing the metrics for each pixel:\n"
   ],
   "metadata": {
    "collapsed": false
   }
  },
  {
   "cell_type": "code",
   "execution_count": 11,
   "outputs": [
    {
     "name": "stdout",
     "output_type": "stream",
     "text": [
      "<xarray.DataArray (y: 40, x: 40, val: 26)>\n",
      "array([[[ 8.89500000e+01,  8.90200000e+01,  8.90700000e+01, ...,\n",
      "          3.68335834e+00,  7.01144926e-01,  2.27517370e-01],\n",
      "        [ 8.89300000e+01,  9.17100000e+01,  9.63400000e+01, ...,\n",
      "          5.82563263e-01,  5.32337210e-01,  4.13955542e-01],\n",
      "        [ 9.60300000e+01,  1.02950000e+02,  1.11197000e+02, ...,\n",
      "         -1.95949508e-01,  4.53641988e-01,  4.48952305e-01],\n",
      "        ...,\n",
      "        [ 9.25090000e+01,  1.08470000e+02,  1.12550000e+02, ...,\n",
      "          2.28676927e+00,  4.67347898e-01,  4.64552502e-01],\n",
      "        [ 8.41600000e+01,  1.19140000e+02,  1.21410000e+02, ...,\n",
      "          2.54644842e+00,  5.05866552e-01,  5.01203720e-01],\n",
      "        [ 8.68360000e+01,  1.20400000e+02,  1.22620000e+02, ...,\n",
      "          2.98616310e+00,  4.79139806e-01,  4.74055514e-01]],\n",
      "\n",
      "       [[ 8.92000000e+01,  8.92500000e+01,  8.93100000e+01, ...,\n",
      "          2.91807758e+01,  9.37620045e-01,  6.62214074e-02],\n",
      "        [ 8.91300000e+01,  8.91700000e+01,  8.92200000e+01, ...,\n",
      "          9.43081452e+02,  9.06627011e-01,  6.14108579e-02],\n",
      "        [ 8.91200000e+01,  8.91700000e+01,  8.92400000e+01, ...,\n",
      "          5.84663796e+00,  6.61693739e-01,  3.29190979e-01],\n",
      "...\n",
      "        [ 9.08700000e+01,  9.09200000e+01,  9.09700000e+01, ...,\n",
      "          6.83499132e+01,  8.80368571e-01,  1.30272188e-01],\n",
      "        [ 9.04900000e+01,  9.05800000e+01,  9.06300000e+01, ...,\n",
      "          1.09385594e+04,  9.99908826e-01,  0.00000000e+00],\n",
      "        [ 8.98400000e+01,  8.99700000e+01,  9.00800000e+01, ...,\n",
      "          1.98495855e+02,  9.57289940e-01,  3.57734927e-02]],\n",
      "\n",
      "       [[ 9.34500000e+01,  9.43100000e+01,  9.56000000e+01, ...,\n",
      "         -1.08762128e+00,  4.61018857e-01,  4.42912093e-01],\n",
      "        [ 9.22500000e+01,  9.58000000e+01,  9.87000000e+01, ...,\n",
      "         -3.52808650e-01,  4.15730710e-01,  4.02904233e-01],\n",
      "        [ 9.42500000e+01,  9.97980000e+01,  1.03520000e+02, ...,\n",
      "         -6.41371076e-01,  4.33248669e-01,  4.24072102e-01],\n",
      "        ...,\n",
      "        [ 9.10400000e+01,  9.11200000e+01,  9.11600000e+01, ...,\n",
      "          1.29200229e+04,  9.99913093e-01,  0.00000000e+00],\n",
      "        [ 9.04800000e+01,  9.05600000e+01,  9.06100000e+01, ...,\n",
      "          1.20591382e+04,  9.99908617e-01,  0.00000000e+00],\n",
      "        [ 8.93700000e+01,  8.95800000e+01,  8.97000000e+01, ...,\n",
      "          6.23615479e+03,  9.99317344e-01,  0.00000000e+00]]])\n",
      "Coordinates:\n",
      "  * y        (y) float64 5.456e+06 5.456e+06 5.456e+06 ... 5.457e+06 5.457e+06\n",
      "  * x        (x) float64 4.83e+05 4.83e+05 4.831e+05 ... 4.84e+05 4.84e+05\n",
      "  * val      (val) <U19 'p10' 'p20' ... 'p_first_returns' 'p_first_veg_returns'\n"
     ]
    }
   ],
   "source": [
    "print(metrics)"
   ],
   "metadata": {
    "collapsed": false
   }
  },
  {
   "cell_type": "code",
   "execution_count": null,
   "outputs": [],
   "source": [],
   "metadata": {
    "collapsed": false
   }
  },
  {
   "cell_type": "markdown",
   "source": [
    "\n",
    "Using [`rioxarray`](https://corteva.github.io/rioxarray/stable/), we can save the values (here: the `p90` metric, i.e., the 90th height percentile) to a raster file:\n"
   ],
   "metadata": {
    "collapsed": false
   }
  },
  {
   "cell_type": "code",
   "execution_count": 12,
   "outputs": [],
   "source": [
    "import rioxarray\n",
    "metrics.sel(val='p90').rio.to_raster(f\"p90.tif\", \"COG\")"
   ],
   "metadata": {
    "collapsed": false
   }
  }
 ],
 "metadata": {
  "kernelspec": {
   "display_name": "Python 3",
   "language": "python",
   "name": "python3"
  },
  "language_info": {
   "codemirror_mode": {
    "name": "ipython",
    "version": 2
   },
   "file_extension": ".py",
   "mimetype": "text/x-python",
   "name": "python",
   "nbconvert_exporter": "python",
   "pygments_lexer": "ipython2",
   "version": "2.7.6"
  }
 },
 "nbformat": 4,
 "nbformat_minor": 0
}
